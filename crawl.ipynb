{
 "cells": [
  {
   "cell_type": "code",
   "execution_count": 1,
   "metadata": {},
   "outputs": [],
   "source": [
    "import pandas as pd\n",
    "from time import sleep\n",
    "from selenium import webdriver\n",
    "from selenium.webdriver.chrome.service import Service\n",
    "from selenium.webdriver.common.by import By\n",
    "import threading\n",
    "import sys"
   ]
  },
  {
   "cell_type": "code",
   "execution_count": 2,
   "metadata": {},
   "outputs": [],
   "source": [
    "def setup(url):\n",
    "    if sys.version_info >= (3, 11, 0):\n",
    "        driver = webdriver.Chrome()\n",
    "    else:\n",
    "        driver = webdriver.Chrome(executable_path=\"chromedriver.exe\")\n",
    "    driver.get(\"https://sv.haui.edu.vn\")\n",
    "    driver.maximize_window()\n",
    "    username = driver.find_element(By.ID, (\"ctl00_inpUserName\"))\n",
    "    password = driver.find_element(By.ID, (\"ctl00_inpPassword\"))\n",
    "    login_btn = driver.find_element(By.ID, (\"ctl00_butLogin\"))\n",
    "    username.send_keys(\"2021602643\")\n",
    "    password.send_keys(\"Phuong phuong1\")\n",
    "    sleep(10)\n",
    "    login_btn.click()\n",
    "    driver.get(url)\n",
    "    return driver"
   ]
  },
  {
   "cell_type": "code",
   "execution_count": 3,
   "metadata": {},
   "outputs": [],
   "source": [
    "def get_list(driver, str):\n",
    "    ls1 = driver.find_elements(By.CLASS_NAME, (\"kTableRow\"))\n",
    "    ls2 = driver.find_elements(By.CLASS_NAME, (\"kTableAltRow\"))\n",
    "    ls = []\n",
    "    links = []\n",
    "    for i in range(len(ls1)):\n",
    "        ls.append(ls1[i].text.split(' ', 2)[2].rsplit(' ', 1))\n",
    "        ls.append(ls2[i].text.split(' ', 2)[2].rsplit(' ', 1))\n",
    "    ls = ls[0:(len(ls)-8)]\n",
    "    fullname = [i[0] for i in ls]\n",
    "    df = pd.DataFrame(fullname, columns=['Họ và tên'])\n",
    "    df['Lớp'] = str\n",
    "    df['Lớp'].ffill(inplace=True)\n",
    "    for i in range(len(ls1)):\n",
    "        links.append(ls1[i].find_elements(By.CSS_SELECTOR, '[href]'))\n",
    "        links.append(ls2[i].find_elements(By.CSS_SELECTOR, '[href]'))\n",
    "    links = links[0:(len(links)-8)]\n",
    "    links = [link[0].get_attribute('href') for link in links]\n",
    "    return df, links, len(ls)"
   ]
  },
  {
   "cell_type": "code",
   "execution_count": 4,
   "metadata": {},
   "outputs": [],
   "source": [
    "def get_info(driver, links, len_ls):\n",
    "    total_credits = []\n",
    "    gpa = []\n",
    "    total_accumulated_credits = []\n",
    "    classified = []\n",
    "    xpath = '/html/body/div[1]/div[2]/div/form/div[3]/div[3]/div/div/div/div/div/div/table/tbody/tr'\n",
    "    for i in range(len_ls):\n",
    "        driver.get(links[i])\n",
    "        sleep(2)\n",
    "        num_rows = driver.find_elements(By.XPATH, (xpath))\n",
    "        total_credits.append(driver.find_elements(By.XPATH, (f\"{xpath}[{len(num_rows) - 1}]/td[1]/span\"))[0].text)\n",
    "        gpa.append(driver.find_elements(By.XPATH, (f\"{xpath}[{len(num_rows) - 1}]/td[2]/span\"))[0].text)\n",
    "        total_accumulated_credits.append(driver.find_elements(By.XPATH, (f\"{xpath}[{len(num_rows)}]/td[1]/span\"))[0].text)\n",
    "        classified.append(driver.find_elements(By.XPATH, (f\"{xpath}[{len(num_rows)}]/td[2]/span\"))[0].text)\n",
    "    for i in range(len(total_credits)):\n",
    "        total_credits[i] = total_credits[i].replace(\"Tổng số tín chỉ: \", \"\")\n",
    "    for i in range(len(gpa)):\n",
    "        gpa[i] = gpa[i].replace(\"Trung bình chung tích lũy: \", \"\")\n",
    "    for i in range(len(total_accumulated_credits)):\n",
    "        total_accumulated_credits[i] = total_accumulated_credits[i].replace(\"Tổng số tín chỉ tích lũy: \", \"\")\n",
    "    for i in range(len(classified)):\n",
    "        classified[i] = classified[i].replace(\"Xếp loại tốt nghiệp: \", \"\")\n",
    "    data = {'Tổng số tín': total_credits,\n",
    "            'GPA': gpa,\n",
    "            'Tổng số tín tích lũy': total_accumulated_credits,\n",
    "            'Loại': classified}\n",
    "\n",
    "    df = pd.DataFrame(data)\n",
    "    return df"
   ]
  },
  {
   "cell_type": "code",
   "execution_count": 5,
   "metadata": {},
   "outputs": [],
   "source": [
    "def main(str, url):\n",
    "    global result\n",
    "    driver = setup(url=url)\n",
    "    df_list, links, len_ls = get_list(driver=driver, str=str)\n",
    "    df_info = get_info(driver=driver, links=links, len_ls=len_ls)\n",
    "    df = pd.concat([df_list, df_info], axis=1)\n",
    "    driver.quit()\n",
    "    return df"
   ]
  },
  {
   "cell_type": "code",
   "execution_count": 6,
   "metadata": {},
   "outputs": [
    {
     "name": "stderr",
     "output_type": "stream",
     "text": [
      "C:\\Users\\Phuong\\AppData\\Local\\Temp\\ipykernel_16100\\327714192.py:5: DeprecationWarning: executable_path has been deprecated, please pass in a Service object\n",
      "  driver = webdriver.Chrome(executable_path=\"chromedriver.exe\")\n"
     ]
    }
   ],
   "source": [
    "url_list = [\"https://sv.haui.edu.vn/student/result/viewexamresultclass?id=168244&t=fdc0d272b071aae62ec5a39b2f2095125333c65e\", #1\n",
    "            \"https://sv.haui.edu.vn/student/result/viewexamresultclass?id=168245&t=011325e244ea7fa04e4020daa26831615c59699c\", #2\n",
    "            \"https://sv.haui.edu.vn/student/result/viewexamresultclass?id=168264&t=c6e0e7d0c9ee5d01ac37aa8ffa69efaed5f8e220\", #3\n",
    "            \"https://sv.haui.edu.vn/student/result/viewexamresultclass?id=168265&t=6ed251d57e43904cdfaf5dde3124fb100499deae\", #4\n",
    "            \"https://sv.haui.edu.vn/student/result/viewexamresultclass?id=168246&t=9bc4e6e29fed5832e4d263f1be0780f551e63af2\", #5\n",
    "            \"https://sv.haui.edu.vn/student/result/viewexamresultclass?id=168247&t=bd5bd0730f45055b161d932a3eac2f35332b356d\", #6\n",
    "            \"https://sv.haui.edu.vn/student/result/viewexamresultclass?id=168266&t=8cc05c1eea330157d30bf3d5801258bfd52db712\"] #7\n",
    "for i in range(len(url_list)):\n",
    "    main(f\"CNTT{i+1}\", url_list[i]).to_csv(f\"output\\\\CNTT{i+1}.csv\")"
   ]
  },
  {
   "cell_type": "code",
   "execution_count": null,
   "metadata": {},
   "outputs": [],
   "source": [
    "# url_list = [\"https://sv.haui.edu.vn/student/result/viewexamresultclass?id=168244&t=fdc0d272b071aae62ec5a39b2f2095125333c65e\", #1\n",
    "#             \"https://sv.haui.edu.vn/student/result/viewexamresultclass?id=168245&t=011325e244ea7fa04e4020daa26831615c59699c\", #2\n",
    "#             \"https://sv.haui.edu.vn/student/result/viewexamresultclass?id=168264&t=c6e0e7d0c9ee5d01ac37aa8ffa69efaed5f8e220\", #3\n",
    "#             \"https://sv.haui.edu.vn/student/result/viewexamresultclass?id=168265&t=6ed251d57e43904cdfaf5dde3124fb100499deae\", #4\n",
    "#             \"https://sv.haui.edu.vn/student/result/viewexamresultclass?id=168246&t=9bc4e6e29fed5832e4d263f1be0780f551e63af2\", #5\n",
    "#             \"https://sv.haui.edu.vn/student/result/viewexamresultclass?id=168247&t=bd5bd0730f45055b161d932a3eac2f35332b356d\", #6\n",
    "#             \"https://sv.haui.edu.vn/student/result/viewexamresultclass?id=168266&t=8cc05c1eea330157d30bf3d5801258bfd52db712\"] #7\n",
    "# threads = []\n",
    "# result = pd.DataFrame()\n",
    "\n",
    "# def run_thread(url, i):\n",
    "#     global result\n",
    "#     df = main(f'CNTT{i}', url)\n",
    "#     result = pd.concat([result, df], ignore_index=True)\n",
    "#     sleep(10)\n",
    "\n",
    "# for i in range(len(url_list)):\n",
    "#     threads += [threading.Thread(target=run_thread, args={url_list[i], i+1},)]\n",
    "# for i in threads:\n",
    "#     i.start()\n",
    "# for i in threads:\n",
    "#     i.join()\n",
    "# print(\"===============Done===============\")"
   ]
  },
  {
   "cell_type": "code",
   "execution_count": 1,
   "metadata": {},
   "outputs": [
    {
     "name": "stdout",
     "output_type": "stream",
     "text": [
      "3.11.0 | packaged by Anaconda, Inc. | (main, Mar  1 2023, 18:18:21) [MSC v.1916 64 bit (AMD64)]\n"
     ]
    }
   ],
   "source": [
    "import sys\n",
    "print(sys.version)"
   ]
  },
  {
   "cell_type": "code",
   "execution_count": null,
   "metadata": {},
   "outputs": [],
   "source": []
  }
 ],
 "metadata": {
  "kernelspec": {
   "display_name": "my-crawl",
   "language": "python",
   "name": "python3"
  },
  "language_info": {
   "codemirror_mode": {
    "name": "ipython",
    "version": 3
   },
   "file_extension": ".py",
   "mimetype": "text/x-python",
   "name": "python",
   "nbconvert_exporter": "python",
   "pygments_lexer": "ipython3",
   "version": "3.8.10"
  }
 },
 "nbformat": 4,
 "nbformat_minor": 2
}
